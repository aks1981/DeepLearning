{
  "nbformat": 4,
  "nbformat_minor": 0,
  "metadata": {
    "colab": {
      "name": "Access-Google-drive-from-Colab.ipynb",
      "version": "0.3.2",
      "provenance": [],
      "include_colab_link": true
    },
    "kernelspec": {
      "name": "python3",
      "display_name": "Python 3"
    }
  },
  "cells": [
    {
      "cell_type": "markdown",
      "metadata": {
        "id": "view-in-github",
        "colab_type": "text"
      },
      "source": [
        "<a href=\"https://colab.research.google.com/github/aks1981/DeepLearning/blob/master/Access_Google_drive_from_Colab.ipynb\" target=\"_parent\"><img src=\"https://colab.research.google.com/assets/colab-badge.svg\" alt=\"Open In Colab\"/></a>"
      ]
    },
    {
      "metadata": {
        "id": "LNuqPQUpBt_1",
        "colab_type": "text"
      },
      "cell_type": "markdown",
      "source": [
        "# **How to access Google drive from Colab**"
      ]
    },
    {
      "metadata": {
        "id": "P0oLgSrnBsMi",
        "colab_type": "code",
        "colab": {}
      },
      "cell_type": "code",
      "source": [
        "from google.colab import drive\n",
        "drive.mount('/content/drive')"
      ],
      "execution_count": 0,
      "outputs": []
    },
    {
      "metadata": {
        "id": "Ij2cNvQ2B0rA",
        "colab_type": "code",
        "colab": {}
      },
      "cell_type": "code",
      "source": [
        "#Upload zip file into Google drive below is command for unzip\n",
        "!unzip \"/content/drive/My Drive/tiny-imagenet-200.zip\" "
      ],
      "execution_count": 0,
      "outputs": []
    },
    {
      "metadata": {
        "id": "2Xv81m-dCMzu",
        "colab_type": "text"
      },
      "cell_type": "markdown",
      "source": [
        "# *Coppy all file from mount point to your Google drive.*"
      ]
    },
    {
      "metadata": {
        "id": "O9t7tLICCEfB",
        "colab_type": "code",
        "colab": {}
      },
      "cell_type": "code",
      "source": [
        "\n",
        "!cp -R \"tiny-imagenet-200/\" \"/content/drive/My Drive/EIP/\"\n",
        "!ls \"/content/drive/My Drive/EIP/\""
      ],
      "execution_count": 0,
      "outputs": []
    }
  ]
}